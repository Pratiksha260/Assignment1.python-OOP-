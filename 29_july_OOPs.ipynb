{
 "cells": [
  {
   "cell_type": "code",
   "execution_count": null,
   "id": "b0dabf67",
   "metadata": {},
   "outputs": [],
   "source": []
  },
  {
   "cell_type": "markdown",
   "id": "cb413bd8",
   "metadata": {},
   "source": [
    "1. What is the primary goal of Object-Oriented Programming (OOP)?\n",
    "\n",
    "    ANS:The goal of object-oriented programming(OOP) is to model real-world concepts as objects,which have attributes and methods.OOP allows for the creation of complex programs that are easy to understand,maintain, and extend.It also promotes code reuse by allowing object to be created from existing class templates.Object-oriented programming focuses on the creation of objects that contain data and behavior.The data is stored in variable called \"attributes\", and the behavior is defined by functions called \"methods\". These objects can interact with each other, and with the outside world, to achieve a goal.\n",
    "\n",
    "    The primary goal of OOP is to create flexible, reusable, and modular code that is easy to understand and maintain.It achieve this by breaking complex problem into smaller, into manageable pieces, each of which can be encapsulated by an object.These objects than can be combined and reused in new programs, reducing the amount of code that needs to be written from scratch.\n",
    "    \n",
    "    OOP also promotes the concept of inheritance, where one class can inherit attributes and method from another class. This allows for the creation of hierarchies of related classes, each with their own specialized behavior.Inheritance can also be used to create polymorphism, where multiple objects can respond to the same method in different ways.\n",
    "    \n",
    "    Overall, the goal of OOP is to provide a way to complex systems and problems in a way that is maintanable, adaptable,intuitive to changing requirements."
   ]
  },
  {
   "cell_type": "markdown",
   "id": "5df727f8",
   "metadata": {},
   "source": [
    "2. What is an object in Python?\n",
    "\n",
    "    ANS:In python, an object is an instance of a class.A class is like a blueprint while an instance is a copy of the class with actual values.Python is an object-oriented programming language that stresses object i.e. it mainly emphasizes functions.Python objects are basically an encapsulation of data variables and methods acting on that data into a single entity.\n",
    "\n",
    "    for example, consider a game like Clash of Clans.The base layout can be considered as the class which contains all the buildings, defenses, resources, etc.Based on these descriptions we make a village, here the village is the object in Python "
   ]
  },
  {
   "cell_type": "markdown",
   "id": "e4110d68",
   "metadata": {},
   "source": [
    "3. What is a class in Python?\n",
    "\n",
    "ANS:In python a class is a blueprint for creating objects.It defines a set of attributes and methods that are common to all object of the class.When we create an object from the class, we are creating an instance of that class.The attributes of the object are defined by the class, and the methods of the object are defined by the class as well.Classes provide a way to organize code into reusable structures that can be used throughout the program.They are essential part of object-oriented programming in python."
   ]
  },
  {
   "cell_type": "markdown",
   "id": "109ee8a5",
   "metadata": {},
   "source": [
    "4. What are attributes and methods in a class?\n",
    "\n",
    "ANS:In python, a class is a blueprint used for creating an objects.Objects have member variables and have behavior associated with them.In python, attributes of a class are function objects that define corresponding methods of its instances.They are used to implement access controls of the classes.Attributes of a class can also be accessed using the following built-in methods and functions:\n",
    "\n",
    "getattr () :This function is used to access the attribute of object.\n",
    "hasattr () :This function is used to check if an attribute exist or not.\n",
    "setattr () :This function is used to set an attribute.\n",
    "detattr () :This function is used to delete an attribute.If we are accessing the attribute after deleting it raises error \"class has no attribute\"\n",
    "\n",
    "Method:\n",
    "\n",
    "   Methods are functions defined inside the body of a class.They are used to define the behaviors of an object.Method is a block of code that is associated with the class or object.they are similar to function but they have a first arguement that is the object to which they are bound.Methods are used to get or set details about the object,or to perform specific function on them. \n",
    "   \n",
    "   There are 3 types of methods:instance method, class method & static method."
   ]
  },
  {
   "cell_type": "markdown",
   "id": "4d4a273a",
   "metadata": {},
   "source": [
    "5. What is the difference between class variables and instance variables in Python?\n",
    "\n",
    "ANS:In pyhton, class variables are shared by all instances of the class, whereas instance variables are unique to each instance of the class\n",
    "\n",
    "   An instance variable is a variable whose value is instance-specific attribute and not shared among instances.It is usually tied to a particular object instance of the class,therefore, the contents of an instance variable are totally independent of one object instance to others.\n",
    "   \n",
    "   On the other hand, a class variable is a variable that defines a specific attribute for a class.These variables can have only one value across different objects and are not tied to any particular object of the class.Therefore, they can be shared across all objects of the class."
   ]
  },
  {
   "cell_type": "code",
   "execution_count": 1,
   "id": "d3a5b252",
   "metadata": {},
   "outputs": [],
   "source": [
    "#here is an example of class variable and instance variable:"
   ]
  },
  {
   "cell_type": "code",
   "execution_count": 2,
   "id": "c23f9fd3",
   "metadata": {},
   "outputs": [
    {
     "name": "stdout",
     "output_type": "stream",
     "text": [
      "Python\n",
      "3 months\n",
      "20000\n",
      "18000\n"
     ]
    }
   ],
   "source": [
    "class College:\n",
    "    #class variable \n",
    "    course = 'Python'\n",
    "\n",
    "    def __init__(self,fees,duration):\n",
    "        #Instance variable\n",
    "        self.fees = fees\n",
    "        self.duration = duration\n",
    "    \n",
    "College1 = College(20000,'3 months')\n",
    "College2 = College(18000,\"6 months\")\n",
    "\n",
    "print(College1.course)\n",
    "print(College1.duration)\n",
    "\n",
    "print(College1.fees)\n",
    "print(College2.fees)\n",
    "\n"
   ]
  },
  {
   "cell_type": "markdown",
   "id": "4ea559ca",
   "metadata": {},
   "source": [
    "6. What is the purpose of the self parameter in Python class methods?\n",
    "\n",
    "ANS:In python, self is a reference to the instance of the class.It is used to access the attributes and methods of the class in python.self reprsents the instance of the class.It binds the attributes with the given arguments.self is always poinitng to current object.If we don't provide self,it will raise an error.It is advisable to use self because it increases the readility of code, and it is also a good programming practice."
   ]
  },
  {
   "cell_type": "code",
   "execution_count": 3,
   "id": "07a4e93f",
   "metadata": {},
   "outputs": [
    {
     "name": "stdout",
     "output_type": "stream",
     "text": [
      "Address of self =  2157737900976\n",
      "Address of class object =  2157737900976\n"
     ]
    }
   ],
   "source": [
    "#example of self and obj is referring to the same object:\n",
    "\n",
    "class check:\n",
    "    def __init__(self):\n",
    "        print(\"Address of self = \",id(self))\n",
    "        \n",
    "obj = check()\n",
    "print(\"Address of class object = \",id(obj))"
   ]
  },
  {
   "cell_type": "markdown",
   "id": "be0bffa8",
   "metadata": {},
   "source": [
    "7. For a library management system, you have to design the \"Book\" class with OOP\n",
    "principles in mind. The “Book” class will have following attributes:\n",
    "a. title: Represents the title of the book.\n",
    "b. author: Represents the author(s) of the book.\n",
    "c. isbn: Represents the ISBN (International Standard Book Number) of the book.\n",
    "d. publication_year: Represents the year of publication of the book.\n",
    "e. available_copies: Represents the number of copies available for checkout.\n",
    "The class will also include the following methods:\n",
    "a. check_out(self): Decrements the available copies by one if there are copies\n",
    "available for checkout.\n",
    "b. return_book(self): Increments the available copies by one when a book is\n",
    "returned.\n",
    "c. display_book_info(self): Displays the information about the book, including its\n",
    "attributes and the number of available copies."
   ]
  },
  {
   "cell_type": "code",
   "execution_count": 4,
   "id": "6606c322",
   "metadata": {},
   "outputs": [],
   "source": [
    "class Book:\n",
    "    def __init__(self,title,author,isbn,publication_year,available_copies):\n",
    "        self.title = title\n",
    "        self.author = author\n",
    "        self.isbn = isbn\n",
    "        self.publication_year = publication_year\n",
    "        self.available_copies = available_copies\n",
    "        \n",
    "    def check_out(self):\n",
    "        if self.available_copies > 0:\n",
    "            self.available_copies -=1\n",
    "            return True\n",
    "        else :\n",
    "            return False\n",
    "    def return_book(self):\n",
    "        self.available_copies+= 1\n",
    "    \n",
    "    def display_book_info(self):\n",
    "        print(f\"Title of the book :  {self.title}\")\n",
    "        print(f\"Author of the book : {self.author}\")\n",
    "        print(f\"isbn : {self.isbn}\")\n",
    "        print(f\"publication year : {self.publication_year}\")\n",
    "        print(f\"available copies : {self.available_copies}\")"
   ]
  },
  {
   "cell_type": "code",
   "execution_count": 5,
   "id": "b995855a",
   "metadata": {},
   "outputs": [
    {
     "data": {
      "text/plain": [
       "True"
      ]
     },
     "execution_count": 5,
     "metadata": {},
     "output_type": "execute_result"
    }
   ],
   "source": [
    "Book1 =Book('The Indian Economy',\"Mihir Panta\",'2453879',2004, 20)\n",
    "\n",
    "Book1.check_out()"
   ]
  },
  {
   "cell_type": "code",
   "execution_count": 6,
   "id": "87831338",
   "metadata": {},
   "outputs": [],
   "source": [
    "Book1.return_book()\n"
   ]
  },
  {
   "cell_type": "code",
   "execution_count": 7,
   "id": "aa395b9a",
   "metadata": {},
   "outputs": [
    {
     "name": "stdout",
     "output_type": "stream",
     "text": [
      "Title of the book :  The Indian Economy\n",
      "Author of the book : Mihir Panta\n",
      "isbn : 2453879\n",
      "publication year : 2004\n",
      "available copies : 20\n"
     ]
    }
   ],
   "source": [
    "Book1.display_book_info()"
   ]
  },
  {
   "cell_type": "markdown",
   "id": "8cb044fa",
   "metadata": {},
   "source": [
    "8. For a ticket booking system, you have to design the \"Ticket\" class with OOP\n",
    "principles in mind. The “Ticket” class should have the following attributes:\n",
    "a. ticket_id: Represents the unique identifier for the ticket.\n",
    "b. event_name: Represents the name of the event.\n",
    "c. event_date: Represents the date of the event.\n",
    "d. venue: Represents the venue of the event.\n",
    "e. seat_number: Represents the seat number associated with the ticket.\n",
    "f. price: Represents the price of the ticket.\n",
    "g. is_reserved: Represents the reservation status of the ticket.\n",
    "The class also includes the following methods:\n",
    "a. reserve_ticket(self): Marks the ticket as reserved if it is not already reserved.\n",
    "b. cancel_reservation(self): Cancels the reservation of the ticket if it is already\n",
    "reserved.\n",
    "c. display_ticket_info(self): Displays the information about the ticket, including its\n",
    "attributes and reservation status."
   ]
  },
  {
   "cell_type": "code",
   "execution_count": 8,
   "id": "3cde0ec6",
   "metadata": {},
   "outputs": [],
   "source": [
    "class Ticket:\n",
    "    def __init__(self,ticket_id,event_name,event_date,venue,seat_number,price,is_reserved):\n",
    "        self.ticket_id = ticket_id\n",
    "        self.event_name =event_name\n",
    "        self.event_date = event_date\n",
    "        self.venue =venue\n",
    "        self.seat_number = seat_number\n",
    "        self.price = price\n",
    "        self.is_reserved = False\n",
    "        \n",
    "    def reserve_ticket(self):\n",
    "        if not self.is_reserved :\n",
    "            self.is_reserved = True\n",
    "            print(f\"Congrats seat reserved successfully!\")\n",
    "        else:\n",
    "            print(f\"seat is already reserved\")\n",
    "            \n",
    "    def cancel_reservation(self):\n",
    "        if not self.is_reserved:\n",
    "            self.is_reserved = False\n",
    "        print(f\"congrats ticket cancelled successfully!\")\n",
    "        \n",
    "    def display_ticket_info(self):\n",
    "        print(f\"Ticket_id : {self.ticket_id}\")\n",
    "        print(f\"Event_name : {self.event_name}\")\n",
    "        print(f\"Event_date : {self.event_date}\")\n",
    "        print(f\"Venue : {self.venue}\")\n",
    "        print(f\"Seat_number : {self.seat_number}\")\n",
    "        print(f\"Price : {self.price}\")\n",
    "        if self.is_reserved:\n",
    "            print(f\"Reservation status : Reserved\")\n",
    "        else:  \n",
    "            print(f\"Reservation status : Not Reserved\")"
   ]
  },
  {
   "cell_type": "code",
   "execution_count": 9,
   "id": "9e80702c",
   "metadata": {},
   "outputs": [
    {
     "name": "stdout",
     "output_type": "stream",
     "text": [
      "Congrats seat reserved successfully!\n",
      "Ticket_id : AZT123\n",
      "Event_name : HAPPY GUEST\n",
      "Event_date : 1 AUG 2023\n",
      "Venue : ANDHERI\n",
      "Seat_number : 25\n",
      "Price : 1000\n",
      "Reservation status : Reserved\n"
     ]
    }
   ],
   "source": [
    "    Ticket1 = Ticket(\"AZT123\",\"HAPPY GUEST\",\"1 AUG 2023\",\"ANDHERI\",25,1000,True)\n",
    "    \n",
    "    Ticket1.reserve_ticket()\n",
    "    \n",
    "    Ticket1.display_ticket_info()"
   ]
  },
  {
   "cell_type": "markdown",
   "id": "b8ca3fd9",
   "metadata": {},
   "source": [
    "9. You are creating a shopping cart for an e-commerce website. Using OOP to model\n",
    "the \"ShoppingCart\" functionality the class should contain following attributes and\n",
    "methods:\n",
    "a. items: Represents the list of items in the shopping cart.\n",
    "The class also includes the following methods:\n",
    "\n",
    "a. add_item(self, item): Adds an item to the shopping cart by appending it to the\n",
    "list of items.\n",
    "b. remove_item(self, item): Removes an item from the shopping cart if it exists in\n",
    "the list.\n",
    "c. view_cart(self): Displays the items currently present in the shopping cart.\n",
    "d. clear_cart(self): Clears all items from the shopping cart by reassigning an\n",
    "empty list to the items attribute."
   ]
  },
  {
   "cell_type": "code",
   "execution_count": 10,
   "id": "27ada58c",
   "metadata": {},
   "outputs": [],
   "source": [
    "class ShoppingCart:\n",
    "    def __init__(self):\n",
    "        self.item =[\"tomato\",\"potato\"]\n",
    "        \n",
    "    def add_item(self,item):\n",
    "        self.item.append(item)\n",
    "        \n",
    "    def remove_item(self,item):\n",
    "        if item in self.item:\n",
    "            self.item.remove(item)\n",
    "        \n",
    "    def view_cart(self):\n",
    "        if len(self.item)==0:\n",
    "            print('No items added')\n",
    "        else:\n",
    "            print(\"Your cart contains the following items: \")\n",
    "            for item in self.item:\n",
    "                print(\"- \"+item)\n",
    "                \n",
    "    def clear_cart(self):\n",
    "        self.item =[]"
   ]
  },
  {
   "cell_type": "code",
   "execution_count": 11,
   "id": "9a39d40e",
   "metadata": {},
   "outputs": [],
   "source": [
    "cart = ShoppingCart()\n",
    "cart.add_item(\"apple\")\n",
    "cart.add_item(\"strawberry\")\n",
    "cart.add_item(\"cherry\")\n",
    "cart.add_item(\"banana\")\n",
    "cart.add_item(\"tomato\")"
   ]
  },
  {
   "cell_type": "code",
   "execution_count": 12,
   "id": "910936b1",
   "metadata": {},
   "outputs": [
    {
     "name": "stdout",
     "output_type": "stream",
     "text": [
      "Your cart contains the following items: \n",
      "- tomato\n",
      "- potato\n",
      "- apple\n",
      "- strawberry\n",
      "- cherry\n",
      "- banana\n",
      "- tomato\n"
     ]
    }
   ],
   "source": [
    "cart.view_cart()"
   ]
  },
  {
   "cell_type": "code",
   "execution_count": 13,
   "id": "6c5dbccb",
   "metadata": {},
   "outputs": [],
   "source": [
    "cart.remove_item(\"tomato\")"
   ]
  },
  {
   "cell_type": "code",
   "execution_count": 14,
   "id": "7bdf6f08",
   "metadata": {},
   "outputs": [
    {
     "name": "stdout",
     "output_type": "stream",
     "text": [
      "Your cart contains the following items: \n",
      "- potato\n",
      "- apple\n",
      "- strawberry\n",
      "- cherry\n",
      "- banana\n",
      "- tomato\n"
     ]
    }
   ],
   "source": [
    "cart.view_cart()"
   ]
  },
  {
   "cell_type": "code",
   "execution_count": 15,
   "id": "872fb97a",
   "metadata": {},
   "outputs": [],
   "source": [
    "cart.clear_cart()"
   ]
  },
  {
   "cell_type": "code",
   "execution_count": 16,
   "id": "5ff900fe",
   "metadata": {},
   "outputs": [
    {
     "name": "stdout",
     "output_type": "stream",
     "text": [
      "No items added\n"
     ]
    }
   ],
   "source": [
    "cart.view_cart()"
   ]
  },
  {
   "cell_type": "markdown",
   "id": "d3a3860b",
   "metadata": {},
   "source": [
    "10. Imagine a school management system. You have to design the \"Student\" class using\n",
    "OOP concepts.The “Student” class has the following attributes:\n",
    "a. name: Represents the name of the student.\n",
    "b. age: Represents the age of the student.\n",
    "c. grade: Represents the grade or class of the student.\n",
    "d. student_id: Represents the unique identifier for the student.\n",
    "e. attendance: Represents the attendance record of the student.\n",
    "The class should also include the following methods:\n",
    "a. update_attendance(self, date, status): Updates the attendance record of the\n",
    "student for a given date with the provided status (e.g., present or absent).\n",
    "b. get_attendance(self): Returns the attendance record of the student.\n",
    "c. get_average_attendance(self): Calculates and returns the average\n",
    "attendance percentage of the student based on their attendance record."
   ]
  },
  {
   "cell_type": "code",
   "execution_count": 17,
   "id": "2ae6e6de",
   "metadata": {},
   "outputs": [],
   "source": [
    "class Student:\n",
    "    def __init__(self,name,age,grade,student_id):\n",
    "        self.name = name\n",
    "        self.age = age\n",
    "        self.grade = grade\n",
    "        self.student_id = student_id\n",
    "        self.attendance = {}\n",
    "        \n",
    "    def update_attendance(self,date,status):\n",
    "        self.attendance[date] = status\n",
    "        \n",
    "    def get_attendance(self):\n",
    "        return self.attendance\n",
    "    \n",
    "    def get_average_attendance(self):\n",
    "        total_days = len(self.attendance)\n",
    "        present_days =list(self.attendance.values()).count(\"Present\")\n",
    "        return(present_days/total_days)*100\n",
    "    "
   ]
  },
  {
   "cell_type": "code",
   "execution_count": 18,
   "id": "fc1539e4",
   "metadata": {},
   "outputs": [],
   "source": [
    "Student1 = Student(\"Pramay\",25,\"B\",3087926)"
   ]
  },
  {
   "cell_type": "code",
   "execution_count": 19,
   "id": "3acfabd9",
   "metadata": {},
   "outputs": [],
   "source": [
    "Student1.update_attendance(\"28-7-2023\",\"Absent\")"
   ]
  },
  {
   "cell_type": "code",
   "execution_count": 20,
   "id": "ebe9a2ee",
   "metadata": {},
   "outputs": [
    {
     "data": {
      "text/plain": [
       "{'28-7-2023': 'Absent'}"
      ]
     },
     "execution_count": 20,
     "metadata": {},
     "output_type": "execute_result"
    }
   ],
   "source": [
    "Student1.get_attendance()"
   ]
  },
  {
   "cell_type": "code",
   "execution_count": 21,
   "id": "c755598e",
   "metadata": {},
   "outputs": [
    {
     "data": {
      "text/plain": [
       "0.0"
      ]
     },
     "execution_count": 21,
     "metadata": {},
     "output_type": "execute_result"
    }
   ],
   "source": [
    "Student1.get_average_attendance()"
   ]
  },
  {
   "cell_type": "code",
   "execution_count": 22,
   "id": "f763143e",
   "metadata": {},
   "outputs": [
    {
     "data": {
      "text/plain": [
       "100.0"
      ]
     },
     "execution_count": 22,
     "metadata": {},
     "output_type": "execute_result"
    }
   ],
   "source": [
    "Student2 =Student(\"Meera\",27,\"A\",34567)\n",
    "Student2.update_attendance(\"28-7-2023\",\"Present\")\n",
    "Student2.get_attendance()\n",
    "Student2.get_average_attendance()"
   ]
  },
  {
   "cell_type": "code",
   "execution_count": null,
   "id": "b4dd27f4",
   "metadata": {},
   "outputs": [],
   "source": []
  },
  {
   "cell_type": "code",
   "execution_count": null,
   "id": "690531a3",
   "metadata": {},
   "outputs": [],
   "source": []
  }
 ],
 "metadata": {
  "kernelspec": {
   "display_name": "Python 3 (ipykernel)",
   "language": "python",
   "name": "python3"
  },
  "language_info": {
   "codemirror_mode": {
    "name": "ipython",
    "version": 3
   },
   "file_extension": ".py",
   "mimetype": "text/x-python",
   "name": "python",
   "nbconvert_exporter": "python",
   "pygments_lexer": "ipython3",
   "version": "3.10.9"
  }
 },
 "nbformat": 4,
 "nbformat_minor": 5
}
